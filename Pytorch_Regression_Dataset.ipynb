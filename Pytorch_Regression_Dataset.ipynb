{
  "nbformat": 4,
  "nbformat_minor": 0,
  "metadata": {
    "colab": {
      "name": "Pytorch_Regression_Dataset.ipynb",
      "provenance": [],
      "toc_visible": true,
      "authorship_tag": "ABX9TyM0d6t302Ph/AwNJgzOg9ML",
      "include_colab_link": true
    },
    "kernelspec": {
      "name": "python3",
      "display_name": "Python 3"
    },
    "language_info": {
      "name": "python"
    }
  },
  "cells": [
    {
      "cell_type": "markdown",
      "metadata": {
        "id": "view-in-github",
        "colab_type": "text"
      },
      "source": [
        "<a href=\"https://colab.research.google.com/github/SherkoAI/Pytorch/blob/main/Pytorch_Regression_Dataset.ipynb\" target=\"_parent\"><img src=\"https://colab.research.google.com/assets/colab-badge.svg\" alt=\"Open In Colab\"/></a>"
      ]
    },
    {
      "cell_type": "markdown",
      "metadata": {
        "id": "_A9a-CUgiale"
      },
      "source": [
        "**Simple Sample Dataset with Pytorch ☕**"
      ]
    },
    {
      "cell_type": "code",
      "metadata": {
        "id": "6TGP0toIcwxZ"
      },
      "source": [
        "from torch.utils.data import Dataset"
      ],
      "execution_count": 65,
      "outputs": []
    },
    {
      "cell_type": "code",
      "metadata": {
        "id": "oxRTbq5JeJM1"
      },
      "source": [
        "class Data(Dataset):\n",
        "  def __init__(self):\n",
        "    self.x = torch.arange(-3, 3, 0.1).view(-1, 1)\n",
        "    self.y = -3 * x + 1\n",
        "    self.len = self.x.shape[0]\n",
        "\n",
        "  def __getitem__(self, index):\n",
        "    return self.x[index], self.y[index]\n",
        "\n",
        "  def __len__(self):\n",
        "    return self.len\n",
        "  "
      ],
      "execution_count": 75,
      "outputs": []
    },
    {
      "cell_type": "code",
      "metadata": {
        "id": "lE4zmtepjbX_"
      },
      "source": [
        "dataset = Data()"
      ],
      "execution_count": 76,
      "outputs": []
    },
    {
      "cell_type": "code",
      "metadata": {
        "colab": {
          "base_uri": "https://localhost:8080/"
        },
        "id": "oOV1JW5JjeZH",
        "outputId": "79b92455-f76a-4271-f665-613fa47ba9c4"
      },
      "source": [
        "dataset[0]"
      ],
      "execution_count": 80,
      "outputs": [
        {
          "output_type": "execute_result",
          "data": {
            "text/plain": [
              "(tensor([-3.]), tensor(10.))"
            ]
          },
          "metadata": {},
          "execution_count": 80
        }
      ]
    },
    {
      "cell_type": "code",
      "metadata": {
        "colab": {
          "base_uri": "https://localhost:8080/"
        },
        "id": "5jdVzbt2jhUC",
        "outputId": "39bcaf56-22c3-452d-b612-fcae378d2277"
      },
      "source": [
        "x"
      ],
      "execution_count": 78,
      "outputs": [
        {
          "output_type": "execute_result",
          "data": {
            "text/plain": [
              "tensor([[-3.0000],\n",
              "        [-2.9000],\n",
              "        [-2.8000]])"
            ]
          },
          "metadata": {},
          "execution_count": 78
        }
      ]
    },
    {
      "cell_type": "code",
      "metadata": {
        "id": "6F4Wa6T2kAON"
      },
      "source": [
        ""
      ],
      "execution_count": null,
      "outputs": []
    }
  ]
}